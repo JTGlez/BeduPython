{
 "cells": [
  {
   "attachments": {},
   "cell_type": "markdown",
   "metadata": {},
   "source": [
    "## Reto 1: Creando listas y accediendo a ellas\n",
    "\n",
    "### 1. Objetivos:\n",
    "    - Practicar crear listas con valores crudos y variables\n",
    "    - Practicar acceder a listas usando índices\n",
    " \n",
    "---\n",
    "    \n",
    "### 2. Desarrollo:"
   ]
  },
  {
   "attachments": {},
   "cell_type": "markdown",
   "metadata": {},
   "source": [
    "#### a) Definiendo una lista\n",
    "\n",
    "Debajo de esta celda hay un nombre de una variable que aún no ha sido asignada:"
   ]
  },
  {
   "cell_type": "code",
   "execution_count": 1,
   "metadata": {},
   "outputs": [],
   "source": [
    "mi_informacion = [\"Jorge\", \"Yorch\", \"Tacos al pastor\", \"cualquier cosa con mango\", \"ser ML Developer, Analista o Científico de datos :)\"]"
   ]
  },
  {
   "attachments": {},
   "cell_type": "markdown",
   "metadata": {},
   "source": [
    "Ahora, tenemos un `print` que imprime una string formateada para mostrar cierta información acerca de ti (Las triples comillas `'''` nos sirven para generar strings de varias líneas):"
   ]
  },
  {
   "cell_type": "code",
   "execution_count": 3,
   "metadata": {},
   "outputs": [
    {
     "name": "stdout",
     "output_type": "stream",
     "text": [
      "\n",
      "¡Hola! Mi nombre es Jorge. Todos me dicen Yorch.\n",
      "Mi comida favorita son los Tacos al pastor. Y la comida que más detesto es cualquier cosa con mango.\n",
      "Mi trabajo ideal sería ser ML Developer, Analista o Científico de datos :).\n",
      "¡Gracias, chau!\n",
      "\n"
     ]
    }
   ],
   "source": [
    "print(f'''\n",
    "¡Hola! Mi nombre es {mi_informacion[0]}. Todos me dicen {mi_informacion[1]}.\n",
    "Mi comida favorita son los {mi_informacion[2]}. Y la comida que más detesto es {mi_informacion[3]}.\n",
    "Mi trabajo ideal sería {mi_informacion[4]}.\n",
    "¡Gracias, chau!\n",
    "''')"
   ]
  },
  {
   "attachments": {},
   "cell_type": "markdown",
   "metadata": {},
   "source": [
    "Para que esta string funcione, asigna una lista a la variable `mi_informacion` con toda la información necesaria para imprimir tu micro-bio debajo de la celda."
   ]
  },
  {
   "attachments": {},
   "cell_type": "markdown",
   "metadata": {},
   "source": [
    "#### b) Una lista construida con variables \n",
    "\n",
    "Debajo de esta celda vemos los nombres de varias variables y una lista que las contiene."
   ]
  },
  {
   "cell_type": "code",
   "execution_count": 7,
   "metadata": {},
   "outputs": [],
   "source": [
    "info_0 = \"cantos de la tierra\"\n",
    "info_1 = \"llevarnos a nuestro descanso final\"\n",
    "info_2 = \"se enfrentan a su mortalidad\"\n",
    "info_3 = \"brotar sobre la tierra\" \n",
    "info_4 = \"me pregunto, ¿Acaso en vano venimos a vivir, a brotar sobre la tierra? Dejemos al menos cantos.\"\n",
    "\n",
    "info_faltante = [info_0, info_1, info_2, info_3, info_4]"
   ]
  },
  {
   "attachments": {},
   "cell_type": "markdown",
   "metadata": {},
   "source": [
    "Ahora, tenemos un `print` que imprime una pequeña historia utilizando la lista `info_faltante` que contiene a las demás variables:"
   ]
  },
  {
   "cell_type": "code",
   "execution_count": 8,
   "metadata": {},
   "outputs": [
    {
     "name": "stdout",
     "output_type": "stream",
     "text": [
      "\n",
      "Algún día los cantos de la tierra lograrán su objetivo. Su objetivo de llevarnos a nuestro descanso final.\n",
      "Ese día, los humanos se enfrentan a su mortalidad y tendrán que brotar sobre la tierra.\n",
      "Por esa razón yo todos los días me pregunto, ¿Acaso en vano venimos a vivir, a brotar sobre la tierra? Dejemos al menos cantos..\n",
      "\n"
     ]
    }
   ],
   "source": [
    "print(f'''\n",
    "Algún día los {info_faltante[0]} lograrán su objetivo. Su objetivo de {info_faltante[1]}.\n",
    "Ese día, los humanos {info_faltante[2]} y tendrán que {info_faltante[3]}.\n",
    "Por esa razón yo todos los días {info_faltante[4]}.\n",
    "''')"
   ]
  },
  {
   "attachments": {},
   "cell_type": "markdown",
   "metadata": {},
   "source": [
    "Tu reto será asignar las variables `info_x` con la información que desees para crear una historia a tu gusto. Cada variable puede contener una string que tenga varias palabras (frases, pues). Si te dan ganas, ¡comparte la historia con tus compañeros!"
   ]
  },
  {
   "attachments": {},
   "cell_type": "markdown",
   "metadata": {},
   "source": [
    "#### c) Practicando el operador de indexación \n",
    "\n",
    "Debajo de esta celda hay una lista con números dentro:"
   ]
  },
  {
   "cell_type": "code",
   "execution_count": 9,
   "metadata": {},
   "outputs": [],
   "source": [
    "respuestas = [0.58, 9, 2, 3, 37, 5, 75, 4]"
   ]
  },
  {
   "attachments": {},
   "cell_type": "markdown",
   "metadata": {},
   "source": [
    "Ahora, tenemos un `print` con una string interpolada. Como puedes ver todas las interpolaciones están vacías:"
   ]
  },
  {
   "cell_type": "code",
   "execution_count": 14,
   "metadata": {},
   "outputs": [
    {
     "name": "stdout",
     "output_type": "stream",
     "text": [
      "\n",
      "1. Los humanos tenemos 2 ojos en la cara.\n",
      "2. Un humano adulto tiene 32 dientes dentro de su boca.\n",
      "3. Un feto tarda 9 meses en gestarse antes de nacer.\n",
      "4. La expectativa de vida en México es de alrededor de 75 años.\n",
      "5. Las horas de sueño al día recomendadas para adultos jóvenes son entre 6 y 8.\n",
      "6. El récord actual de velocidad en 100 metros (09/05/2020) fue establecido por Usain Bolt y es de 9.58\n",
      "\n"
     ]
    }
   ],
   "source": [
    "print(f'''\n",
    "1. Los humanos tenemos {respuestas[-6]} ojos en la cara.\n",
    "2. Un humano adulto tiene {respuestas[-4] - respuestas[-3]} dientes dentro de su boca.\n",
    "3. Un feto tarda {respuestas[-7]} meses en gestarse antes de nacer.\n",
    "4. La expectativa de vida en México es de alrededor de {respuestas[-2]} años.\n",
    "5. Las horas de sueño al día recomendadas para adultos jóvenes son entre {respuestas[-1]+respuestas[-6]} y {respuestas[-3]+respuestas[-5]}.\n",
    "6. El récord actual de velocidad en 100 metros (09/05/2020) fue establecido por Usain Bolt y es de {respuestas[-8]+respuestas[-7]}\n",
    "''')"
   ]
  },
  {
   "attachments": {},
   "cell_type": "markdown",
   "metadata": {},
   "source": [
    "Tu reto es llenar las interpolaciones en la string con elementos de la lista de arriba. Usa los índices de los elementos para acceder a las respuestas correctas y llenar la lista con información coherente. No todas las respuestas están en la lista. Para obtener algunas respuestas tendrás que acceder a elementos de la lista y realizar operaciones numéricas conn ellos (usando `+` o `-`).\n",
    "\n",
    "> Reto extra: Si quieres un poco más de dificultad, accede a todos los elementos usando **solamente** números negativos como índices"
   ]
  },
  {
   "attachments": {},
   "cell_type": "markdown",
   "metadata": {},
   "source": [
    "## Reto 2: Modificando listas\n",
    "\n",
    "### 1. Objetivos:\n",
    "    - Practicar el uso de los métodos `append` `pop`.\n",
    " \n",
    "---\n",
    "    \n",
    "### 2. Desarrollo:"
   ]
  },
  {
   "attachments": {},
   "cell_type": "markdown",
   "metadata": {},
   "source": [
    "#### a) Modificar para eliminar diferencias\n",
    "\n",
    "Debajo tienes dos listas definidas:"
   ]
  },
  {
   "cell_type": "code",
   "execution_count": 17,
   "metadata": {},
   "outputs": [
    {
     "name": "stdout",
     "output_type": "stream",
     "text": [
      "[3.4, 0.7, 99.9, 5.41, 6.23, 7.9]\n"
     ]
    }
   ],
   "source": [
    "lista_1 = [3.4, 0.7, 99.9, 5.41, 6.23, 7.9]\n",
    "\n",
    "lista_2 = [3.4, 63.4, 0.7, 6.46, 99.9, 2.2, 5.41]\n",
    "\n",
    "lista_2.pop(1)\n",
    "lista_2.pop(2)\n",
    "lista_2.pop(3)\n",
    "lista_2.append(6.23)\n",
    "lista_2.append(7.9)\n",
    "\n",
    "print(lista_2)"
   ]
  },
  {
   "cell_type": "code",
   "execution_count": 18,
   "metadata": {},
   "outputs": [
    {
     "name": "stdout",
     "output_type": "stream",
     "text": [
      "Tú y yo somos uno mismo\n"
     ]
    }
   ],
   "source": [
    "if lista_1 == lista_2:\n",
    "    print(\"Tú y yo somos uno mismo\")"
   ]
  },
  {
   "attachments": {},
   "cell_type": "markdown",
   "metadata": {},
   "source": [
    "Donde dice `tu código va aquí` agrega modificaciones a la **lista_2** para lograr que ambas listas sean idénticas y el bello mensaje \"Tú y yo somos uno mismo\" se imprima. Puedes usar tanto `pop` como `append`, pero **sólo puedes modificar la lista_2**."
   ]
  },
  {
   "attachments": {},
   "cell_type": "markdown",
   "metadata": {},
   "source": [
    "#### b) Corrigiendo fragmentos\n",
    "\n",
    "Debajo hay un muy pequeño fragmento del capítulo 68 de la novela \"Rayuela\" de Julio Cortázar ([Lo puedes leer aquí](https://ciudadseva.com/texto/rayuela-capitulo-68/)). Este fragmento ha sido modificado, como fácilmente podrás ver. Además, el fragmento termina con un oración inconclusa:"
   ]
  },
  {
   "cell_type": "code",
   "execution_count": 44,
   "metadata": {},
   "outputs": [
    {
     "data": {
      "text/plain": [
       "'fermales'"
      ]
     },
     "execution_count": 44,
     "metadata": {},
     "output_type": "execute_result"
    }
   ],
   "source": [
    "fragmento_fragmentado = ['Apenas', 'él', 'le', 'amalaba', 'hidrolizado', 'el', 'noema,',\n",
    "                         'a', 'ella', 'se', 'le', 'agolpaba', 'el', 'clémiso', 'súbito',\n",
    "                         'y', 'caían', 'en', 'fermales', 'hidromurias,', 'en', 'salvajes', 'ambonios,',\n",
    "                         'en', 'sustalos', 'distales', 'exasperantes.',\n",
    "                         'Cada', 'vez', 'que', 'él', 'procuraba', 'relamar', 'las', 'incopelusas,', 'hdsmd', 'no', 'entiendo']\n",
    "\n",
    "fragmento_fragmentado.pop(4)\n",
    "fragmento_fragmentado.pop(13)\n",
    "fragmento_fragmentado.pop(16)\n",
    "fragmento_fragmentado.pop(-11)"
   ]
  },
  {
   "attachments": {},
   "cell_type": "markdown",
   "metadata": {},
   "source": [
    "Debajo hay código que toma la lista de arriba e imprime el fragmento en forma de texto. Tu reto es eliminar todas las modificaciones que han sido hechas al texto de Cortázar usando el método `pop`. Al terminar, puedes, si así lo deseas, agregar tu propio final a la oración inconclusa usando el método `append`.\n",
    "\n",
    "El resultado será una colaboración tuya y de Cortázar:"
   ]
  },
  {
   "cell_type": "code",
   "execution_count": 54,
   "metadata": {},
   "outputs": [],
   "source": [
    "fragmento_fragmentado = ['Apenas', 'él', 'le', 'amalaba', 'hidrolizado', 'el', 'noema,',\n",
    "                        'a', 'ella', 'se', 'le', 'agolpaba', 'el', 'clémiso', 'súbito',                        \n",
    "                        'y', 'caían', 'en', 'fermales', 'hidromurias,', 'en', 'salvajes', 'ambonios,',\n",
    "                        'en', 'sustalos', 'distales', 'exasperantes.', 'Cada', 'vez', 'que', 'él', 'procuraba', \n",
    "                        'relamar', 'las', 'incopelusas']\n",
    "\n",
    "fragmento_fragmentado.pop(4)\n",
    "fragmento_fragmentado.pop(13)\n",
    "fragmento_fragmentado.pop(16)\n",
    "fragmento_fragmentado.pop(-10)\n",
    "fragmento_fragmentado.append(\"se aproximabam entreplumados.\")"
   ]
  },
  {
   "cell_type": "code",
   "execution_count": 57,
   "metadata": {},
   "outputs": [
    {
     "name": "stdout",
     "output_type": "stream",
     "text": [
      "==Colaboración póstuma de Córtazar y Yorch==\n",
      "\n",
      "Apenas él le amalaba el noema, a ella se le agolpaba el clémiso y caían en hidromurias, en salvajes ambonios, en sustalos exasperantes. Cada vez que él procuraba relamar las incopelusas se aproximabam entreplumados\n"
     ]
    }
   ],
   "source": [
    "tu_nombre = \"Yorch\"  # Tu nombre va aquí\n",
    "\n",
    "print(f'==Colaboración póstuma de Córtazar y {tu_nombre}==\\n')\n",
    "print(f'{\" \".join(fragmento_fragmentado)}')"
   ]
  },
  {
   "attachments": {},
   "cell_type": "markdown",
   "metadata": {},
   "source": [
    "## Reto 3: Creando y accesando diccionarios\n",
    "\n",
    "### 1. Objetivos:\n",
    "    - Entender cómo crear diccionarios y cómo acceder a ellos\n",
    " \n",
    "---\n",
    "    \n",
    "### 2. Desarrollo:"
   ]
  },
  {
   "attachments": {},
   "cell_type": "markdown",
   "metadata": {},
   "source": [
    "Debajo hemos definido un diccionario. Este diccionario se encuentra incompleto, aunque no lo parezca:"
   ]
  },
  {
   "cell_type": "code",
   "execution_count": 66,
   "metadata": {},
   "outputs": [],
   "source": [
    "ventas_mensuales = {\n",
    "    \"fecha_de_corte\": \"01/05/2020\",\n",
    "    \"unidad\": \"Aragón\",\n",
    "    \"ventas_pasteleria\": 15000,\n",
    "    \"ventas_panaderia\": 12000,\n",
    "    \"ganancias_pasteleria\": 123022,\n",
    "    \"ganancias_panaderia\": 120392,\n",
    "    \"gastos_mensuales_totales\": 2829203,\n",
    "    \"analista\": \"Yorch\"\n",
    "}"
   ]
  },
  {
   "attachments": {},
   "cell_type": "markdown",
   "metadata": {},
   "source": [
    "Debajo tenemos algunos procedimientos que han sido realizados utilizando este diccionario. Como puedes ver, algunos de los accesos que se están haciendo van a fallar porque el diccionario `ventas_mensuales` no está completo:"
   ]
  },
  {
   "cell_type": "code",
   "execution_count": 67,
   "metadata": {},
   "outputs": [
    {
     "name": "stdout",
     "output_type": "stream",
     "text": [
      "==Resumen de ventas mensuales de la unidad Aragón==\n",
      "\n",
      "Fecha de corte: 01/05/2020\n",
      "\n",
      "  - Ventas totales de insumos: 27000\n",
      "  - Ganancias totales: 243414\n",
      "  - Ganancias netas: -2585789\n",
      "\n",
      "\n",
      "(Información recabada por: Yorch)\n"
     ]
    }
   ],
   "source": [
    "ventas_totales_de_insumos = ventas_mensuales[\"ventas_pasteleria\"] + ventas_mensuales[\"ventas_panaderia\"]\n",
    "ganancias_totales = ventas_mensuales[\"ganancias_pasteleria\"] + ventas_mensuales[\"ganancias_panaderia\"]\n",
    "ganancias_netas = ganancias_totales - ventas_mensuales[\"gastos_mensuales_totales\"]\n",
    "\n",
    "print(f'==Resumen de ventas mensuales de la unidad {ventas_mensuales[\"unidad\"]}==\\n')\n",
    "print(f'Fecha de corte: {ventas_mensuales[\"fecha_de_corte\"]}\\n')\n",
    "print(f'  - Ventas totales de insumos: {ventas_totales_de_insumos}')\n",
    "print(f'  - Ganancias totales: {ganancias_totales}')\n",
    "print(f'  - Ganancias netas: {ganancias_netas}')\n",
    "print(f'\\n')\n",
    "print(f'(Información recabada por: {ventas_mensuales[\"analista\"]})')"
   ]
  },
  {
   "attachments": {},
   "cell_type": "markdown",
   "metadata": {},
   "source": [
    "Completa el diccionario `ventas_mensuales` para que el código que imprime el resumen de las ventas funcione correctamente."
   ]
  },
  {
   "attachments": {},
   "cell_type": "markdown",
   "metadata": {},
   "source": [
    "## Reto 4: Modificando diccionarios\n",
    "\n",
    "### 1. Objetivos:\n",
    "    - Practicar agregar datos, modificar datos y eliminar datos de diccionarios\n",
    " \n",
    "---\n",
    "    \n",
    "### 2. Desarrollo:\n",
    "\n",
    "Debajo tienes un diccionario que contiene algo de información sobre una persona:"
   ]
  },
  {
   "cell_type": "code",
   "execution_count": 76,
   "metadata": {},
   "outputs": [],
   "source": [
    "registro = {\n",
    "    \"id\": \"23f-58j-kju7-54re\",\n",
    "    \"nombre\": \"Alberto\",\n",
    "    \"apellido_materno\": \"Gutierrez\",\n",
    "    \"apellido_paterno\": \"Sosa\",\n",
    "    \"profesion\": \"Contador\",\n",
    "    \"ultimo_nivel_de_estudios\": \"Maestría\",\n",
    "    \"lugar_de_estudios\": \"UAM\",\n",
    "    \"numero_de_cuenta\": \"25367890\",\n",
    "    \"nip_de_cajero\": \"142\"\n",
    "}\n",
    "\n",
    "registro[\"nombre\"] = \"Jorge\"\n",
    "registro[\"apellido_materno\"] = \"Gonzalez\"\n",
    "registro[\"apellido_paterno\"] = \"XD\"\n",
    "registro[\"profesion\"] = \"Ingeniero\"\n",
    "registro[\"ultimo_nivel_de_estudios\"] = \"Licenciatura\"\n",
    "registro[\"lugar_de_estudios\"] = \"UNAM\"\n",
    "registro.pop(\"numero_de_cuenta\")\n",
    "registro.pop(\"nip_de_cajero\")\n",
    "registro[\"fecha_de_nacimiento\"] = \"1998\"\n",
    "registro[\"lugar_de_nacimiento\"] = \"CDMX\""
   ]
  },
  {
   "attachments": {},
   "cell_type": "markdown",
   "metadata": {},
   "source": [
    "Ahora, tenemos una serie de `prints` que imprimen esta información en forma de tabla:"
   ]
  },
  {
   "cell_type": "code",
   "execution_count": 77,
   "metadata": {},
   "outputs": [
    {
     "name": "stdout",
     "output_type": "stream",
     "text": [
      "Registro con id: 23f-58j-kju7-54re\n",
      "\n",
      "---------------------------------------\n",
      "\n",
      "Nombre                    | Jorge                    \n",
      "Apellido Materno          | Gonzalez                 \n",
      "Apellido Paterno          | XD                       \n",
      "Profesión                 | Ingeniero                \n",
      "Último nivel de estudios  | Licenciatura             \n",
      "Lugar de estudios         | UNAM                     \n",
      "Fecha de nacimiento       | 1998                     \n",
      "Lugar de nacimiento       | CDMX                     \n"
     ]
    }
   ],
   "source": [
    "print(f'Registro con id: {registro[\"id\"]}\\n')\n",
    "print(f'---------------------------------------\\n')\n",
    "print(f'{(\"Nombre\"):25} | {registro[\"nombre\"]:25}')\n",
    "print(f'{(\"Apellido Materno\"):25} | {registro[\"apellido_materno\"]:25}')\n",
    "print(f'{(\"Apellido Paterno\"):25} | {registro[\"apellido_paterno\"]:25}')\n",
    "print(f'{(\"Profesión\"):25} | {registro[\"profesion\"]:25}')\n",
    "print(f'{(\"Último nivel de estudios\"):25} | {registro[\"ultimo_nivel_de_estudios\"]:25}')\n",
    "print(f'{(\"Lugar de estudios\"):25} | {registro[\"lugar_de_estudios\"]:25}')\n",
    "print(f'{(\"Fecha de nacimiento\"):25} | {registro[\"fecha_de_nacimiento\"]:25}')\n",
    "print(f'{(\"Lugar de nacimiento\"):25} | {registro[\"lugar_de_nacimiento\"]:25}')"
   ]
  },
  {
   "attachments": {},
   "cell_type": "markdown",
   "metadata": {},
   "source": [
    "La actividad tienen 3 partes:\n",
    "\n",
    "1. Usando la técnica para modificar valores en un diccionario, cambia la información del diccionario para que sea la tuya.\n",
    "2. Usando la técnica para agregar datos al diccionario agrega las llaves que estén siendo accesadas en el `print` pero que no han sido agregadas al diccionario.\n",
    "3. Usando la técnica para eliminar datos del diccionario, elimina los datos sensibles que no quieras que estén incluidos en el diccionario.\n",
    "\n",
    "Recuerda sólo utilizar métodos y operadores para realizar el ejercicio. **No reescribas el diccionario directamente**."
   ]
  },
  {
   "attachments": {},
   "cell_type": "markdown",
   "metadata": {},
   "source": [
    "## Reto 5: Funciones\n",
    "\n",
    "### 1. Objetivos:\n",
    "    - Practicar la declaración de funciones\n",
    "    - Practicar la definición de parámetros y su uso dentro de la función\n",
    "    - Practicar el uso de los valores retornados por una función\n",
    "    - Practicar el uso de funciones para evitar la repetición de código\n",
    " \n",
    "---\n",
    "    \n",
    "### 2. Desarrollo:"
   ]
  },
  {
   "attachments": {},
   "cell_type": "markdown",
   "metadata": {},
   "source": [
    "#### a) Función `numero_es_par`\n",
    "\n",
    "Debajo tienes una función incompleta:"
   ]
  },
  {
   "cell_type": "code",
   "execution_count": 86,
   "metadata": {},
   "outputs": [],
   "source": [
    "def numero_es_par(numero):\n",
    "    return True if numero % 2 == 0 else False"
   ]
  },
  {
   "cell_type": "code",
   "execution_count": 87,
   "metadata": {},
   "outputs": [
    {
     "name": "stdout",
     "output_type": "stream",
     "text": [
      "4\n"
     ]
    }
   ],
   "source": [
    "lista = [[1,2],[3,4]]\n",
    "print(lista[1][1])"
   ]
  },
  {
   "attachments": {},
   "cell_type": "markdown",
   "metadata": {},
   "source": [
    "Dicha función debería de tomar un parámetro `numero`, checar si el número es par, regresar `True` si el número es par y regresar `False` si el número no es par.\n",
    "\n",
    "Completa la función para que el código de abajo (que realiza `tests` de la función) regrese todos los `resultados esperados`.\n",
    "\n",
    "> **Pista**: Si no conoces el operador `módulo` (`%`), pídele al experto que explique su funcionamiento.\n",
    "\n",
    "> **PD**: Si no entiendes la función test_funcion no te preocupes, por el momento sólo está ahí para probar tu código y que sepas si tu función funciona correctamente."
   ]
  },
  {
   "cell_type": "code",
   "execution_count": 121,
   "metadata": {},
   "outputs": [],
   "source": [
    "def test_funcion(funcion_a_probar, num_de_errores, contador, parametros=[], resultado_esperado=None):\n",
    "    resultado_test = funcion_a_probar(*parametros)\n",
    "    print(f'Test {contador}: Resultado esperado es `{resultado_esperado}`, obtuvimos `{resultado_test}`')\n",
    "    if resultado_test != resultado_esperado:\n",
    "        num_de_errores += 1\n",
    "        \n",
    "    return num_de_errores"
   ]
  },
  {
   "cell_type": "code",
   "execution_count": 91,
   "metadata": {},
   "outputs": [
    {
     "name": "stdout",
     "output_type": "stream",
     "text": [
      "== Tests numero_es_par==\n",
      "\n",
      "Test 1: Resultado esperado es `True`, obtuvimos `True`\n",
      "Test 2: Resultado esperado es `False`, obtuvimos `False`\n",
      "Test 3: Resultado esperado es `True`, obtuvimos `True`\n",
      "Test 4: Resultado esperado es `False`, obtuvimos `False`\n",
      "Test 5: Resultado esperado es `True`, obtuvimos `True`\n",
      "Test 6: Resultado esperado es `False`, obtuvimos `False`\n",
      "\n",
      "Errores encontrados: 0\n"
     ]
    }
   ],
   "source": [
    "print(\"== Tests numero_es_par==\\n\")\n",
    "\n",
    "contador_de_tests = 0\n",
    "errores = 0\n",
    "\n",
    "contador_de_tests += 1\n",
    "errores = test_funcion(numero_es_par, errores, contador_de_tests, parametros=[2], resultado_esperado=True)\n",
    "contador_de_tests += 1\n",
    "errores = test_funcion(numero_es_par, errores, contador_de_tests, parametros=[3], resultado_esperado=False)\n",
    "contador_de_tests += 1\n",
    "errores = test_funcion(numero_es_par, errores, contador_de_tests, parametros=[0], resultado_esperado=True)\n",
    "contador_de_tests += 1\n",
    "errores = test_funcion(numero_es_par, errores, contador_de_tests, parametros=[127], resultado_esperado=False)\n",
    "contador_de_tests += 1\n",
    "errores = test_funcion(numero_es_par, errores, contador_de_tests, parametros=[-88], resultado_esperado=True)\n",
    "contador_de_tests += 1\n",
    "errores = test_funcion(numero_es_par, errores, contador_de_tests, parametros=[-1349], resultado_esperado=False)\n",
    "\n",
    "print(f'\\nErrores encontrados: {errores}')"
   ]
  },
  {
   "attachments": {},
   "cell_type": "markdown",
   "metadata": {},
   "source": [
    "#### b) Reutilización de código\n",
    "\n",
    "Debajo tenemos algo de código."
   ]
  },
  {
   "cell_type": "code",
   "execution_count": 97,
   "metadata": {},
   "outputs": [
    {
     "name": "stdout",
     "output_type": "stream",
     "text": [
      "34 es el 34.0% del número 100\n",
      "\n",
      "57 es el 44.881889763779526% del número 127\n",
      "\n",
      "12 es el 5.2631578947368425% del número 228\n",
      "\n",
      "87 es el 100.0% del número 90\n",
      "\n",
      "1 es el 0.1001001001001001% del número 999\n",
      "\n"
     ]
    }
   ],
   "source": [
    "resultado_1 = 34 * 100 / 100\n",
    "print(f'34 es el {resultado_1}% del número 100\\n')\n",
    "\n",
    "resultado_2 = 57 * 100 / 127\n",
    "print(f'57 es el {resultado_2}% del número 127\\n')\n",
    "\n",
    "resultado_3 = 12 * 100 / 228\n",
    "print(f'12 es el {resultado_3}% del número 228\\n')\n",
    "\n",
    "resultado_4 = 87 * 100 / 87\n",
    "print(f'87 es el {resultado_4}% del número 90\\n')\n",
    "\n",
    "resultado_5 = 1 * 100 / 999\n",
    "print(f'1 es el {resultado_5}% del número 999\\n')"
   ]
  },
  {
   "attachments": {},
   "cell_type": "markdown",
   "metadata": {},
   "source": [
    "Este código funciona correctamente, pero como puedes ver, estamos escribiendo el mismo código una y otra vez. En la celda debajo, escribe una función que realice la operación matemática que estamos realizando arriba, para que podamos reusarla múltiples veces para obtener los resultados que queremos. Llena también los `prints` de manera que podamos leer el resultado en un formato comprensible.\n",
    "\n",
    "> Reto extra: Si quieres un reto extra, escribe también una función que genere las strings que vamos a pasar a los `prints`, para no tener que escribirlas desde 0 cada vez."
   ]
  },
  {
   "cell_type": "code",
   "execution_count": 123,
   "metadata": {},
   "outputs": [
    {
     "name": "stdout",
     "output_type": "stream",
     "text": [
      "34 es el 34.00% del número 100\n",
      "57 es el 44.88% del número 127\n",
      "12 es el 5.26% del número 228\n",
      "87 es el 100.00% del número 87\n",
      "1 es el 0.10% del número 999\n"
     ]
    }
   ],
   "source": [
    "def calcular(num1, num2):\n",
    "    resultado = num1 * 100 / num2\n",
    "    return f'{num1} es el {resultado:.2f}% del número {num2}'\n",
    "\n",
    "print(calcular(34, 100))\n",
    "print(calcular(57, 127))\n",
    "print(calcular(12, 228))\n",
    "print(calcular(87, 87))\n",
    "print(calcular(1, 999))\n"
   ]
  },
  {
   "attachments": {},
   "cell_type": "markdown",
   "metadata": {},
   "source": [
    "#### c) Función `acceso_autorizado`\n",
    "\n",
    "Debajo tenemos un conjunto de datos que tiene información de varios usuarios de una plataforma web. Este diccionario relaciona `usernames` con un rol y (a veces) con un nip de acceso:"
   ]
  },
  {
   "cell_type": "code",
   "execution_count": 104,
   "metadata": {},
   "outputs": [],
   "source": [
    "usuarios = {\n",
    "    \"manolito_garcia\": {\n",
    "        \"rol\": \"admin\"\n",
    "    },\n",
    "    \"sebas_macaco_23\": {\n",
    "        \"rol\": \"editor\",\n",
    "        \"nip_de_acceso\": 3594\n",
    "    },\n",
    "    \"la_susanita_maestra\": {\n",
    "        \"rol\": \"admin\"\n",
    "    },\n",
    "    \"pepe_le_pu_88\": {\n",
    "        \"rol\": \"lector\"\n",
    "    },\n",
    "    \"jonny_bravo_estuvo_aqui\": {\n",
    "        \"rol\": \"editor\",\n",
    "        \"nip_de_acceso\": 9730\n",
    "    },\n",
    "    \"alfonso_torres_69\": {\n",
    "        \"rol\": \"editor\",\n",
    "        \"nip_de_acceso\": 2849\n",
    "    },\n",
    "    \"jocosita_99\": {\n",
    "        \"rol\": \"lector\"\n",
    "    }\n",
    "}"
   ]
  },
  {
   "attachments": {},
   "cell_type": "markdown",
   "metadata": {},
   "source": [
    "Nuestra plataforma tiene 3 roles:\n",
    "\n",
    "1. Admin: estos pueden editar información sin necesitar un nip de acceso.\n",
    "2. Editor: pueden editar información sólo si escriben correctamenta su nip de acceso.\n",
    "3. Lector: no pueden editar, sólo ver la información, no necesitan nip de acceso.\n",
    "\n",
    "En la celda debajo, crea una función llamada `nivel_de_acceso_para_username` que reciba 3 parámetros:\n",
    "\n",
    "1. `base_de_datos`: que será siempre nuestro diccionario `usuarios`.\n",
    "2. `username`: El `username` del usuario que está solicitando acceso.\n",
    "3. `nip_de_acceso`: El nip de acceso, que puede ser `None` en el caso de que el usuario no tenga uno (o que haya olvidado escribirlo a la hora de pedir acceso.\n",
    "\n",
    "Con estos 3 parámetros, nuestra función tiene que regresar uno de los códigos de acceso siguientes:\n",
    "\n",
    "- `0`: Acceso denegado (esto sucede si el rol es `editor` y el `nip_de_acceso` es incorrecto).\n",
    "- `1`: Modo edición autorizada (esto sucede si el rol es `admin` o si el rol es `editor` y el `nip_de_acesso` es correcto).\n",
    "- `2`: Modo lectura autorizada (esto sucede si el rol es `lector`).\n",
    "\n",
    "Después, corre los tests para asegurarte de que tu función es correcta.\n",
    "\n",
    "> Tip: Recuerda que puedes \"anidar\" `sentencias if` dentro de otras `sentencias if`.\n",
    "\n",
    "> Reto extra: Agrega un chequeo que regrese `0` si el `username` que recibió tu función no existe en la base de datos."
   ]
  },
  {
   "cell_type": "code",
   "execution_count": null,
   "metadata": {},
   "outputs": [],
   "source": [
    "def nivel_de_acceso_para_username(usuarios, username, nip_de_acceso):\n",
    "    \"\"\"\n",
    "    Función que recibe un diccionario de usuarios, un nombre y un nip de acceso para conceder permisos.\n",
    "    \"\"\"\n",
    "\n",
    "    user_dict = usuarios.get(username, {}) \n",
    "    rol = user_dict.get(\"rol\")\n",
    "    nip = user_dict.get(\"nip_de_acceso\")\n",
    "\n",
    "    if username is None:\n",
    "        return 0\n",
    "    \n",
    "    if rol in [\"editor\", \"admin\"] and nip = nip_de_acceso\n",
    "        return 1\n",
    "    \n",
    "    if rol == \"lector\":\n",
    "        return 2"
   ]
  },
  {
   "cell_type": "code",
   "execution_count": null,
   "metadata": {},
   "outputs": [],
   "source": []
  },
  {
   "cell_type": "code",
   "execution_count": 116,
   "metadata": {},
   "outputs": [],
   "source": [
    "def nivel_de_acceso_para_username(usuarios, username, nip_de_acceso):\n",
    "    \"\"\"\n",
    "    Recibe la lista de usuarios, el nombre de usuario y su nip de acceso para conceder permisos.\n",
    "    \"\"\"\n",
    "    # Busca el username entre las llaves del diccionario. Devuelve un diccionario vacío si no se encuentra en usuarios.\n",
    "    usuario = usuarios.get(username, {})\n",
    "    # Obtenemos el valor en la clave \"rol\" del subdiccionario recuperado.\n",
    "    rol = usuario.get(\"rol\")\n",
    "    # Obtenemos el valor de la clave \"nip_de_acceso\" del subdiccionario recuperado.\n",
    "    nip = usuario.get(\"nip_de_acceso\")\n",
    "\n",
    "    # Permiso denegado\n",
    "    if username is None:\n",
    "        return 0\n",
    "    \n",
    "    # Permiso concedido: 1\n",
    "    if rol in [\"editor\", \"admin\"] and nip == nip_de_acceso:\n",
    "        return 1\n",
    "\n",
    "    # \n",
    "    if rol == \"lector\":\n",
    "        return 2\n",
    "\n",
    "    # Permiso denegado: editor no ingresó nip correcto\n",
    "    return 0"
   ]
  },
  {
   "cell_type": "code",
   "execution_count": 118,
   "metadata": {},
   "outputs": [
    {
     "name": "stdout",
     "output_type": "stream",
     "text": [
      "== Tests nivel_de_acceso_para_username==\n",
      "\n",
      "Test 1: Resultado esperado es `1`, obtuvimos `1`\n",
      "Test 2: Resultado esperado es `1`, obtuvimos `1`\n",
      "Test 3: Resultado esperado es `0`, obtuvimos `0`\n",
      "Test 4: Resultado esperado es `2`, obtuvimos `2`\n",
      "Test 5: Resultado esperado es `0`, obtuvimos `0`\n",
      "\n",
      "Errores encontrados: 0\n"
     ]
    }
   ],
   "source": [
    "print(\"== Tests nivel_de_acceso_para_username==\\n\")\n",
    "\n",
    "contador_de_tests = 0\n",
    "errores = 0\n",
    "\n",
    "contador_de_tests += 1\n",
    "errores = test_funcion(nivel_de_acceso_para_username, errores, contador_de_tests,\n",
    "                       parametros=[usuarios, \"manolito_garcia\", None], resultado_esperado=1)\n",
    "contador_de_tests += 1\n",
    "errores = test_funcion(nivel_de_acceso_para_username, errores, contador_de_tests,\n",
    "                       parametros=[usuarios, \"sebas_macaco_23\", 3594], resultado_esperado=1)\n",
    "contador_de_tests += 1\n",
    "errores = test_funcion(nivel_de_acceso_para_username, errores, contador_de_tests,\n",
    "                       parametros=[usuarios, \"jonny_bravo_estuvo_aqui\", 9999], resultado_esperado=0)\n",
    "contador_de_tests += 1\n",
    "errores = test_funcion(nivel_de_acceso_para_username, errores, contador_de_tests,\n",
    "                       parametros=[usuarios, \"pepe_le_pu_88\", None], resultado_esperado=2)\n",
    "contador_de_tests += 1\n",
    "errores = test_funcion(nivel_de_acceso_para_username, errores, contador_de_tests, \n",
    "                       parametros=[usuarios, \"alfonso_torres_69\", None], resultado_esperado=0)\n",
    "\n",
    "# Corre el siguiente código sólo si decidiste realizar el reto extra\n",
    "#\n",
    "# contador_de_tests += 1\n",
    "# errores = test_funcion(nivel_de_acceso_para_username, errores, contador_de_tests,\n",
    "#                        parametros=[usuarios, \"los_yeah_yeahs_97\", 1345], resultado_esperado=0)\n",
    "\n",
    "print(f'\\nErrores encontrados: {errores}')"
   ]
  },
  {
   "cell_type": "code",
   "execution_count": 120,
   "metadata": {},
   "outputs": [
    {
     "name": "stdout",
     "output_type": "stream",
     "text": [
      "1\n",
      "1\n"
     ]
    }
   ],
   "source": [
    "diccionario_anidado2 = {\n",
    "    \"dict1\": {\n",
    "        \"value1\": 1,\n",
    "        \"value2\": 2\n",
    "    }\n",
    "}\n",
    "\n",
    "print(diccionario_anidado2[\"dict1\"][\"value1\"])\n",
    "print(diccionario_anidado2.get(\"dict1\").get(\"value1\"))"
   ]
  }
 ],
 "metadata": {
  "kernelspec": {
   "display_name": "base",
   "language": "python",
   "name": "python3"
  },
  "language_info": {
   "codemirror_mode": {
    "name": "ipython",
    "version": 3
   },
   "file_extension": ".py",
   "mimetype": "text/x-python",
   "name": "python",
   "nbconvert_exporter": "python",
   "pygments_lexer": "ipython3",
   "version": "3.9.13"
  },
  "orig_nbformat": 4
 },
 "nbformat": 4,
 "nbformat_minor": 2
}
